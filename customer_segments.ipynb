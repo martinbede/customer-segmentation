{
 "cells": [
  {
   "cell_type": "markdown",
   "metadata": {},
   "source": [
    "# Creating Customer Segments"
   ]
  },
  {
   "cell_type": "markdown",
   "metadata": {},
   "source": [
    "Analysis of a dataset containing annual spending amounts, aiming to identify the internal structure and understand the variation in the different types of customers that a wholesale distributor interacts with.\n",
    "\n",
    "Part of the Udacity Machine Learning Engineer Nanodegree program."
   ]
  },
  {
   "cell_type": "code",
   "execution_count": 1,
   "metadata": {
    "collapsed": false
   },
   "outputs": [
    {
     "name": "stdout",
     "output_type": "stream",
     "text": [
      "Dataset has 440 rows, 6 columns\n",
      "   Fresh  Milk  Grocery  Frozen  Detergents_Paper  Delicatessen\n",
      "0  12669  9656     7561     214              2674          1338\n",
      "1   7057  9810     9568    1762              3293          1776\n",
      "2   6353  8808     7684    2405              3516          7844\n",
      "3  13265  1196     4221    6404               507          1788\n",
      "4  22615  5410     7198    3915              1777          5185\n"
     ]
    }
   ],
   "source": [
    "# Import libraries: NumPy, pandas, matplotlib\n",
    "import numpy as np\n",
    "import pandas as pd\n",
    "import matplotlib.pyplot as plt\n",
    "import matplotlib as mpl\n",
    "\n",
    "# Use float division by default\n",
    "from __future__ import division\n",
    "# Use print() instead of the print statement\n",
    "from __future__ import print_function\n",
    "\n",
    "# Tell iPython to include plots inline in the notebook\n",
    "%matplotlib inline\n",
    "\n",
    "# Set plot style\n",
    "plt.style.use('bmh')\n",
    "mpl.rcParams['font.family'] = 'Ubuntu'\n",
    "mpl.rcParams['font.size'] = 12\n",
    "mpl.rcParams['figure.figsize'] = [10, 7]\n",
    "\n",
    "# Read dataset\n",
    "data = pd.read_csv(\"wholesale-customers.csv\")\n",
    "print(\"Dataset has {} rows, {} columns\".format(*data.shape))\n",
    "print(data.head())  # print the first 5 rows"
   ]
  },
  {
   "cell_type": "markdown",
   "metadata": {},
   "source": [
    "## Feature Transformation"
   ]
  },
  {
   "cell_type": "markdown",
   "metadata": {},
   "source": [
    "**1)** In this section, you will be using PCA and ICA to start to understand the structure of the data. Before doing any computations, what do you think will show up in your computations? List one or two ideas for what might show up as the first PCA dimensions, or what type of vectors will show up as ICA dimensions."
   ]
  },
  {
   "cell_type": "markdown",
   "metadata": {},
   "source": [
    "**Answer:** ICA seeks to transform a set of mixed signals to a set of source signals. (For example, in the case of the \"Cocktail party problem\", the source signals are different speakers/bands/noise sources, and the mixed signals are the sounds recorded by different microphones.)\n",
    "Since the mixed signals here are the orders of \n",
    "different stores, I think the source signals that ICA will find are going to represent different store archetypes.\n",
    "\n",
    "PCA transforms the data into a new feature space too, but instead of looking for source signals, it just maximizes the captured variance for each of the new dimensions.\n",
    "While this can be very useful for dimensionality reduction and finding out how the original dimensions are correlated, the new dimensions don't have deeper meanings, they are just linear combinations of the original dimensions."
   ]
  },
  {
   "cell_type": "markdown",
   "metadata": {},
   "source": [
    "### PCA"
   ]
  },
  {
   "cell_type": "code",
   "execution_count": 2,
   "metadata": {
    "collapsed": false
   },
   "outputs": [
    {
     "name": "stdout",
     "output_type": "stream",
     "text": [
      "        Fresh    Milk  Grocery  Frozen  Detergents_Paper  Delicatessen\n",
      "0.460  -0.977  -0.121   -0.062  -0.152             0.007        -0.068\n",
      "0.405  -0.111   0.516    0.765  -0.019             0.365         0.057\n",
      "0.070  -0.179   0.510   -0.276   0.714            -0.204         0.283\n",
      "0.044  -0.042  -0.646    0.375   0.646             0.149        -0.020\n",
      "0.015   0.016   0.203   -0.160   0.220             0.208        -0.917\n",
      "0.006  -0.016   0.033    0.411  -0.013            -0.871        -0.265\n"
     ]
    },
    {
     "data": {
      "text/plain": [
       "<matplotlib.text.Text at 0x7f41f2dd7f50>"
      ]
     },
     "execution_count": 2,
     "metadata": {},
     "output_type": "execute_result"
    },
    {
     "data": {
      "image/png": "[encoded data removed]",
      "text/plain": [
       "<matplotlib.figure.Figure at 0x7f42201c14d0>"
      ]
     },
     "metadata": {},
     "output_type": "display_data"
    }
   ],
   "source": [
    "# Center the data by subtracting the mean from each column\n",
    "scaled_data = data - np.mean(data)\n",
    "\n",
    "# Apply PCA with the same number of dimensions as variables in the dataset\n",
    "from sklearn.decomposition import PCA\n",
    "pca = PCA(data.shape[1]).fit(scaled_data)\n",
    "\n",
    "# Print the components and the amount of variance in the data contained in each dimension\n",
    "components = pd.DataFrame(data=pca.components_, columns=data.columns.get_values(), index=pca.explained_variance_ratio_)\n",
    "\n",
    "pd.set_option('float_format', '{:7,.3f}'.format)\n",
    "print(components)\n",
    "\n",
    "plt.bar(range(len(pca.explained_variance_ratio_)), pca.explained_variance_ratio_, color='salmon')\n",
    "plt.xlabel('Component #')\n",
    "plt.ylabel('Explained variance')"
   ]
  },
  {
   "cell_type": "markdown",
   "metadata": {},
   "source": [
    "**2)** How quickly does the variance drop off by dimension? If you were to use PCA on this dataset, how many dimensions would you choose for your analysis? Why?"
   ]
  },
  {
   "cell_type": "markdown",
   "metadata": {
    "collapsed": true
   },
   "source": [
    "**Answer:** The variance drops off very quickly after the first two dimensions, therefore I would choose those two because the other components are likely to be noise. Another benefit is that it's easy to plot 2D data."
   ]
  },
  {
   "cell_type": "markdown",
   "metadata": {},
   "source": [
    "**3)** What do the dimensions seem to represent? How can you use this information?"
   ]
  },
  {
   "cell_type": "markdown",
   "metadata": {
    "collapsed": true
   },
   "source": [
    "**Answer:** The first new dimension is mostly correlated with the Fresh category of the original data.\n",
    "\n",
    "The second new dimension is roughly a combination of the following original categories: Grocery, Milk, and Detergents_Paper.\n",
    "\n",
    "The data will be transformed into a 2D feature space with these two dimensions, and knowing what the dimensions represent will make it easier to understand the differences between the data points on the chart which will show the transformed data.\n",
    "\n",
    "How the original features are combined into the new features is also indicative of the correlations between the original features. For example, it can be seen that Milk and Detergents_Paper are correlated."
   ]
  },
  {
   "cell_type": "markdown",
   "metadata": {},
   "source": [
    "### ICA"
   ]
  },
  {
   "cell_type": "code",
   "execution_count": 3,
   "metadata": {
    "collapsed": false
   },
   "outputs": [
    {
     "name": "stdout",
     "output_type": "stream",
     "text": [
      "    Fresh    Milk  Grocery   Frozen  Detergents_Paper  Delicatessen\n",
      "0  39.760  -8.588   -6.275   -6.773            20.670       -10.423\n",
      "1   2.107 -18.798   64.228    4.114            -8.050       -14.582\n",
      "2   1.530  98.484  -58.043   -3.652            32.936       -60.610\n",
      "3   3.865   2.194    6.001    5.221            -5.087      -180.923\n",
      "4  -2.993  22.993  120.639  -14.624          -282.089       -57.278\n",
      "5   8.652   1.405   -7.737 -111.462             5.546        59.521\n"
     ]
    }
   ],
   "source": [
    "# Fit an ICA model to the data\n",
    "from sklearn.decomposition import FastICA\n",
    "ica = FastICA(data.shape[1], random_state=1).fit(scaled_data)\n",
    "\n",
    "# Print the independent components\n",
    "components = pd.DataFrame(data=ica.components_, columns=data.columns.get_values())\n",
    "# The components are multiplied by a constant so that they are easier to read\n",
    "# This doesn't change the interpretation, as the magnitudes are interpreted relatively\n",
    "# and the signs stay the same\n",
    "print(components * 1e7)"
   ]
  },
  {
   "cell_type": "markdown",
   "metadata": {},
   "source": [
    "**4)** For each vector in the ICA decomposition, write a sentence or two explaining what sort of object or property it corresponds to. What could these components be used for?"
   ]
  },
  {
   "cell_type": "markdown",
   "metadata": {
    "collapsed": true
   },
   "source": [
    "**Answer:** I think that the vectors here correspond to independent effects the categories have on each other; for example:\n",
    "\n",
    "0. Stores that buy more Fresh items usually buy more Detergents_Paper too, at the expense of the other categories. (The latter effect can be explained by the fact that stores have limited shelf space.)\n",
    "2. Buying more Milk is associated with buying less Grocery and Delicatessen. (based on component 2)\n",
    "4. Buying more Detergents_Paper is associated with buying less Grocery. (component 4)\n",
    "5. Buying more Delicatessen is associated with buying less Frozen food. (component 5)\n",
    "\n",
    "Note that the effects' \"inverse\" is also true, as the signs are arbitrary. (e.g. Reversing the last interpretation, buying more Frozen items is associated with buying less Deli food.)"
   ]
  },
  {
   "cell_type": "markdown",
   "metadata": {},
   "source": [
    "## Clustering\n",
    "\n",
    "In this section you will choose either K-Means clustering or Gaussian Mixed Models clustering, which implements expectation-maximization. Then you will sample elements from the clusters to understand their significance."
   ]
  },
  {
   "cell_type": "markdown",
   "metadata": {},
   "source": [
    "### Choose a Cluster Type\n",
    "\n",
    "**5)** What are the advantages of using K-Means clustering or Gaussian Mixture Models?"
   ]
  },
  {
   "cell_type": "markdown",
   "metadata": {},
   "source": [
    "**Answer:** K-Means is a hard-clustering algorithm, meaning each data point is assigned to a single class. It does this by calculating L2 distances between the data point and the cluster centers, and then assigning the data point to the nearest cluster center.\n",
    "\n",
    "Because of this, the borders between the clusters appear as straight lines, equidistant from the cluster centers.\n",
    "\n",
    "In contrast, GMM works by fitting Gaussian distributions to the data (more precisely, to the clusters). This makes it a soft-clustering algorithm, because each of the data points is affilated with all of the  clusters, to varying degrees.\n",
    "\n",
    "Using a GMM with two clusters seems to be the superior choice here, because the data as visualized only has a single clearly visible cluster (the other \"cluster\" that the GMM will find should contain the outliers), and K-Means can't handle that well (as the borders have to be straight lines between the clusters)."
   ]
  },
  {
   "cell_type": "markdown",
   "metadata": {},
   "source": [
    "**6)** Below is some starter code to help you visualize some cluster data. The visualization is based on [this demo](http://scikit-learn.org/stable/auto_examples/cluster/plot_kmeans_digits.html) from the sklearn documentation."
   ]
  },
  {
   "cell_type": "code",
   "execution_count": 4,
   "metadata": {
    "collapsed": true
   },
   "outputs": [],
   "source": [
    "# Import clustering modules\n",
    "from sklearn.cluster import KMeans\n",
    "from sklearn.mixture import GMM"
   ]
  },
  {
   "cell_type": "code",
   "execution_count": 5,
   "metadata": {
    "collapsed": false
   },
   "outputs": [
    {
     "name": "stdout",
     "output_type": "stream",
     "text": [
      "[[   650.02212207   1585.51909007]\n",
      " [ -4426.80497937   4042.45150884]\n",
      " [ -4841.9987068    2578.762176  ]\n",
      " [   990.34643689  -6279.80599663]\n",
      " [ 10657.99873116  -2159.72581518]\n",
      " [ -2765.96159271   -959.87072713]\n",
      " [  -715.55089221  -2013.00226567]\n",
      " [ -4474.58366697   1429.49697204]\n",
      " [ -6712.09539718  -2205.90915598]\n",
      " [ -4823.63435407  13480.55920489]]\n"
     ]
    }
   ],
   "source": [
    "# First we reduce the data to two dimensions using PCA to capture variation\n",
    "pca.n_components = 2\n",
    "reduced_data = pca.fit_transform(data)\n",
    "# It can be seen from the negative sign of the first component that the sign\n",
    "# of the first new feature should be flipped so that the plot will be easier to read\n",
    "reduced_data[:, 0] = -reduced_data[:, 0]\n",
    "# Uncomment this line to log transform the data\n",
    "#reduced_data = np.log(reduced_data + abs(np.min(reduced_data, axis=0)) + 1)\n",
    "\n",
    "np.set_printoptions(suppress=True)\n",
    "print(reduced_data[:10])  # print upto 10 elements"
   ]
  },
  {
   "cell_type": "code",
   "execution_count": 6,
   "metadata": {
    "collapsed": false
   },
   "outputs": [
    {
     "name": "stdout",
     "output_type": "stream",
     "text": [
      "GMM(covariance_type='diag', init_params='wmc', min_covar=0.001,\n",
      "  n_components=2, n_init=1, n_iter=100, params='wmc', random_state=None,\n",
      "  thresh=None, tol=0.001, verbose=0)\n"
     ]
    }
   ],
   "source": [
    "# Instantiate the clustering algorithm and fit it to the reduced data for visualization\n",
    "gmm_2 = GMM(2).fit(reduced_data)\n",
    "# Two clusters:\n",
    "#   * One for the actual cluster of smaller shops\n",
    "#   * One for the outliers, the big stores\n",
    "\n",
    "print(gmm_2)\n",
    "\n",
    "# Also try a few other hyperparameter/algorithm combinations\n",
    "gmm_3 = GMM(3).fit(reduced_data)\n",
    "kmeans_2 = KMeans(2).fit(reduced_data)\n",
    "kmeans_3 = KMeans(3).fit(reduced_data)"
   ]
  },
  {
   "cell_type": "code",
   "execution_count": 7,
   "metadata": {
    "collapsed": false
   },
   "outputs": [],
   "source": [
    "# Plot the decision boundary by building a mesh grid to populate a graph.\n",
    "def create_mesh(clusters):\n",
    "    x_min, x_max = reduced_data[:, 0].min() - 1, reduced_data[:, 0].max() + 1\n",
    "    y_min, y_max = reduced_data[:, 1].min() - 1, reduced_data[:, 1].max() + 1\n",
    "    hx = (x_max - x_min) / 1000\n",
    "    hy = (y_max - y_min) / 1000\n",
    "    xx, yy = np.meshgrid(np.arange(x_min, x_max, hx), np.arange(y_min, y_max, hy))\n",
    "    \n",
    "    # Obtain labels for each point in mesh. Use last trained model.\n",
    "    Z = clusters.predict(np.c_[xx.ravel(), yy.ravel()])\n",
    "    \n",
    "    return Z, xx, yy, x_min, x_max, y_min, y_max"
   ]
  },
  {
   "cell_type": "code",
   "execution_count": 8,
   "metadata": {
    "collapsed": false
   },
   "outputs": [],
   "source": [
    "# Find the centroids for KMeans or the cluster means for GMM \n",
    "def get_centroids(clusters):\n",
    "    try:\n",
    "        centroids = clusters.means_\n",
    "    except AttributeError:\n",
    "        centroids = clusters.cluster_centers_\n",
    "    print('Centroids:')\n",
    "    print(centroids)\n",
    "    \n",
    "    return centroids"
   ]
  },
  {
   "cell_type": "code",
   "execution_count": 9,
   "metadata": {
    "collapsed": false,
    "scrolled": false
   },
   "outputs": [
    {
     "name": "stdout",
     "output_type": "stream",
     "text": [
      "Centroids:\n",
      "[[ -3308.39301792  -3017.01739698]\n",
      " [ 10810.23008886   9858.15532401]]\n"
     ]
    },
    {
     "name": "stderr",
     "output_type": "stream",
     "text": [
      "/usr/local/lib/python2.7/dist-packages/matplotlib/collections.py:590: FutureWarning: elementwise comparison failed; returning scalar instead, but in the future will perform elementwise comparison\n",
      "  if self._edgecolors == str('face'):\n"
     ]
    },
    {
     "data": {
      "image/png": "[encoded data removed]",
      "text/plain": [
       "<matplotlib.figure.Figure at 0x7f41f2a171d0>"
      ]
     },
     "metadata": {},
     "output_type": "display_data"
    },
    {
     "name": "stdout",
     "output_type": "stream",
     "text": [
      "Centroids:\n",
      "[[ -3308.39301792  -3017.01739698]\n",
      " [ 10810.23008886   9858.15532401]]\n",
      "Centroids:\n",
      "[[ 17878.44951149  10108.28824429]\n",
      " [ -6986.10611001   4252.253209  ]\n",
      " [  -276.11243352  -6508.22600668]]\n",
      "Centroids:\n",
      "[[ 24088.33276689   1218.17938291]\n",
      " [ -4175.31101293   -211.15109304]]\n",
      "Centroids:\n",
      "[[ 23978.86566553  -4445.56611772]\n",
      " [ -1341.31124554  25261.39189714]\n",
      " [ -4165.1217824   -3105.15811456]]\n",
      "\n",
      "Other clustering methods and numbers of clusters\n"
     ]
    },
    {
     "data": {
      "image/png": "[encoded data removed]",
      "text/plain": [
       "<matplotlib.figure.Figure at 0x7f41f2a79190>"
      ]
     },
     "metadata": {},
     "output_type": "display_data"
    }
   ],
   "source": [
    "from math import floor, ceil, sqrt\n",
    "\n",
    "# Put the result into a color plot\n",
    "def plot_result(Z, xx, yy, x_min, x_max, y_min, y_max, centroids, n_plots):\n",
    "    columns = int(ceil(sqrt(n_plots)))\n",
    "    rows = int(floor(n_plots / columns))\n",
    "    subplt = figure.add_subplot(str(rows) + str(columns) + str(plot_result.i_plot))\n",
    "    plot_result.i_plot += 1\n",
    "    \n",
    "    Z = Z.reshape(xx.shape)\n",
    "\n",
    "    subplt.imshow(Z, interpolation='nearest',\n",
    "               extent=(xx.min(), xx.max(), yy.min(), yy.max()),\n",
    "               cmap=plt.cm.Pastel1,\n",
    "               aspect='auto', origin='lower')\n",
    "\n",
    "    plot_scale = max(1 / (rows * columns), 1 / 2)\n",
    "    subplt.plot(reduced_data[:, 0], reduced_data[:, 1], 'k.', markersize=2*plot_scale)\n",
    "    subplt.scatter(centroids[:, 0], centroids[:, 1],\n",
    "                marker='x', s=169, linewidths=3*plot_scale,\n",
    "                color='r', zorder=10)\n",
    "    \n",
    "    if rows == columns == 1:\n",
    "        plt.title('Clustering on the wholesale grocery dataset (PCA-reduced data)\\n'\n",
    "                  'Centroids are marked with red cross')\n",
    "        plt.xlabel('.98 Fresh, .15 Frozen, .12 Milk')\n",
    "        plt.ylabel('.77 Grocery, .51 Milk, .36 Detergents_Paper')\n",
    "        \n",
    "    plt.xlim(x_min, x_max)\n",
    "    plt.ylim(y_min, y_max)\n",
    "    plt.xticks(())\n",
    "    plt.yticks(())\n",
    "\n",
    "\n",
    "plot_result.i_plot = 0\n",
    "figure = plt.figure()\n",
    "centroids = get_centroids(gmm_2)\n",
    "plot_result(*create_mesh(gmm_2), centroids=centroids, n_plots=1)\n",
    "plt.show()\n",
    "    \n",
    "    \n",
    "plot_result.i_plot = 0\n",
    "figure = plt.figure()\n",
    "\n",
    "plot_result(*create_mesh(gmm_2), centroids=get_centroids(gmm_2), n_plots=4)\n",
    "plot_result(*create_mesh(gmm_3), centroids=get_centroids(gmm_3), n_plots=4)\n",
    "plot_result(*create_mesh(kmeans_2), centroids=get_centroids(kmeans_2), n_plots=4)\n",
    "plot_result(*create_mesh(kmeans_3), centroids=get_centroids(kmeans_3), n_plots=4)\n",
    "\n",
    "print()\n",
    "print('Other clustering methods and numbers of clusters')\n",
    "\n",
    "plt.show()"
   ]
  },
  {
   "cell_type": "markdown",
   "metadata": {},
   "source": [
    "**7)** What are the central objects in each cluster? Describe them as customers."
   ]
  },
  {
   "cell_type": "code",
   "execution_count": 10,
   "metadata": {
    "collapsed": false
   },
   "outputs": [
    {
     "name": "stdout",
     "output_type": "stream",
     "text": [
      "       Fresh      Milk    Grocery    Frozen  Detergents_Paper  Delicatessen\n",
      "0 15,564.789 4,641.006  5,848.046 3,632.503         1,755.886     1,577.979\n",
      "1    353.261 9,571.096 14,823.620 1,240.257         6,559.435     1,351.339\n"
     ]
    }
   ],
   "source": [
    "original_centroid_features = pca.inverse_transform(centroids)\n",
    "\n",
    "df_ocf = pd.DataFrame(data=original_centroid_features, columns=data.columns.get_values())\n",
    "print(df_ocf)"
   ]
  },
  {
   "cell_type": "markdown",
   "metadata": {
    "collapsed": true
   },
   "source": [
    "**Answer:** \n",
    "* Bottom left cluster: a regular grocery store, mostly selling groceries\n",
    "* Other cluster (outliers): a store with a focus on (fresh) food"
   ]
  },
  {
   "cell_type": "markdown",
   "metadata": {},
   "source": [
    "### Conclusions\n",
    "\n",
    "** 8)** Which of these techniques did you feel gave you the most insight into the data?"
   ]
  },
  {
   "cell_type": "markdown",
   "metadata": {
    "collapsed": true
   },
   "source": [
    "**Answer:** I think that Pricipal Component Analysis was the most useful technique here, because it enabled the visualization of the data while keeping most of the variance.\n",
    "\n",
    "It also helped with clustering, since the clusters could be visualized along with the data."
   ]
  },
  {
   "cell_type": "markdown",
   "metadata": {
    "collapsed": true
   },
   "source": [
    "**9)** How would you use that technique to help the company design new experiments?"
   ]
  },
  {
   "cell_type": "markdown",
   "metadata": {},
   "source": [
    "**Answer:** I would suggest splitting future experiments (A/B tests) into two separate experiments. The only difference between the two being that one of them should use data points from the first cluster, the other from the second cluster.\n",
    "\n",
    "For example, if we wanted to test if the company can introduce midday delivery, we would have to assemble two groups (let's call them X and Y). X would contain randomly selected stores from the first cluster, and Y would contain randomly selected shops from the other cluster.\n",
    "\n",
    "Then, we would split both X and Y into two subgroups; one subgroup would contain stores we've introduced midday delivery for, the other would be the control subgroup. (So we would have 2 control subgroups, and 2 experimental subgroups.)\n",
    "\n",
    "After getting feedback from all subgroups, we would have separate results for the different clusters. This way, the feedback of the more popolous group couldn't wash out the responses of the other."
   ]
  },
  {
   "cell_type": "markdown",
   "metadata": {},
   "source": [
    "**10)** How would you use that data to help you predict future customer needs?"
   ]
  },
  {
   "cell_type": "markdown",
   "metadata": {},
   "source": [
    "**Answer:** For example, if a new type of product was being trialed, it would be possible to roll it out to a few customers first. Then, the initial results could be used to create a regression model, which could predict how much the other customers will buy of the new product type.\n",
    "\n",
    "This regression model could use the cluster the customer assigned to as an additional feature."
   ]
  }
 ],
 "metadata": {
  "kernelspec": {
   "display_name": "Python 2",
   "language": "python",
   "name": "python2"
  },
  "language_info": {
   "codemirror_mode": {
    "name": "ipython",
    "version": 2
   },
   "file_extension": ".py",
   "mimetype": "text/x-python",
   "name": "python",
   "nbconvert_exporter": "python",
   "pygments_lexer": "ipython2",
   "version": "2.7.6"
  }
 },
 "nbformat": 4,
 "nbformat_minor": 0
}
